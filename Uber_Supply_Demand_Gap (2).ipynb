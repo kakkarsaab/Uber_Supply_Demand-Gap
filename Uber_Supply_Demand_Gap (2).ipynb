{
 "cells": [
  {
   "cell_type": "markdown",
   "metadata": {
    "colab_type": "text",
    "id": "EryAy3LxZ9TY"
   },
   "source": [
    "# Uber Supply Demand Gap"
   ]
  },
  {
   "cell_type": "markdown",
   "metadata": {
    "colab_type": "text",
    "id": "9OLRZlEiZ9Te"
   },
   "source": [
    "## INTRODUCTION"
   ]
  },
  {
   "cell_type": "markdown",
   "metadata": {
    "colab_type": "text",
    "id": "R-9Gr5_6Z9Ti"
   },
   "source": [
    "This data set is a **masked data set** which is similar to what data analysts at Uber handle. This will give us an idea about how problems are systematically solved using EDA and data visualisation. \n",
    "\n",
    "Many of us have some experience of travelling to and from the airport. Have you ever used Uber or any other cab service for this travel? Did you at any time face the problem of cancellation by the driver or non-availability of cars?\n",
    "\n",
    "Well, if these are the problems faced by customers, these very issues also impact the business of Uber. If drivers cancel the request of riders or if cars are unavailable, Uber loses out on its revenue. \n",
    "\n",
    "So, as an analyst we need to decide we need to address the problem Uber is facing - driver cancellation and non-availability of cars leading to loss of potential revenue . This make a huge impact on the business of Uber."
   ]
  },
  {
   "cell_type": "markdown",
   "metadata": {
    "colab_type": "text",
    "id": "Oi4b9Z1qZ9Tm"
   },
   "source": [
    "**Let's start importing the common libraries that will be used in our dataset**"
   ]
  },
  {
   "cell_type": "code",
   "execution_count": 1,
   "metadata": {
    "colab": {},
    "colab_type": "code",
    "id": "Nx1a1QLMZ9Tq"
   },
   "outputs": [],
   "source": [
    "import pandas as pd\n",
    "import numpy as np\n",
    "import seaborn as sns\n",
    "import matplotlib.pyplot as plt\n",
    "%matplotlib inline"
   ]
  },
  {
   "cell_type": "markdown",
   "metadata": {
    "colab_type": "text",
    "id": "NoW9r9JxZ9T5"
   },
   "source": [
    "## DATA DESCRIPTION"
   ]
  },
  {
   "cell_type": "markdown",
   "metadata": {
    "colab_type": "text",
    "id": "-Ulj8XmjZ9T8"
   },
   "source": [
    "There are **six attributes** associated with each request made by a customer:\n",
    "\n",
    "1.**Request id**: A unique identifier of the request\n",
    "\n",
    "2.**Time of request**: The date and time at which the customer made the trip request\n",
    "\n",
    "3.**Drop-off time**: The drop-off date and time, in case the trip was completed\n",
    "\n",
    "4.**Pick-up point**: The point from which the request was made\n",
    "\n",
    "5.**Driver id**: The unique identification number of the driver\n",
    "\n",
    "6.**Status of the request**: The final status of the trip, that can be either completed, cancelled by the driver or no cars                                  available"
   ]
  },
  {
   "cell_type": "code",
   "execution_count": 2,
   "metadata": {
    "colab": {
     "base_uri": "https://localhost:8080/",
     "height": 204
    },
    "colab_type": "code",
    "id": "JOxEWAciZ9UE",
    "outputId": "889621af-52b0-47a3-d7c8-33fa34005524"
   },
   "outputs": [
    {
     "data": {
      "text/html": [
       "<div>\n",
       "<style scoped>\n",
       "    .dataframe tbody tr th:only-of-type {\n",
       "        vertical-align: middle;\n",
       "    }\n",
       "\n",
       "    .dataframe tbody tr th {\n",
       "        vertical-align: top;\n",
       "    }\n",
       "\n",
       "    .dataframe thead th {\n",
       "        text-align: right;\n",
       "    }\n",
       "</style>\n",
       "<table border=\"1\" class=\"dataframe\">\n",
       "  <thead>\n",
       "    <tr style=\"text-align: right;\">\n",
       "      <th></th>\n",
       "      <th>Request id</th>\n",
       "      <th>Pickup point</th>\n",
       "      <th>Driver id</th>\n",
       "      <th>Status</th>\n",
       "      <th>Request timestamp</th>\n",
       "      <th>Drop timestamp</th>\n",
       "    </tr>\n",
       "  </thead>\n",
       "  <tbody>\n",
       "    <tr>\n",
       "      <th>0</th>\n",
       "      <td>619</td>\n",
       "      <td>Airport</td>\n",
       "      <td>1.0</td>\n",
       "      <td>Trip Completed</td>\n",
       "      <td>11/7/2016 11:51</td>\n",
       "      <td>11/7/2016 13:00</td>\n",
       "    </tr>\n",
       "    <tr>\n",
       "      <th>1</th>\n",
       "      <td>867</td>\n",
       "      <td>Airport</td>\n",
       "      <td>1.0</td>\n",
       "      <td>Trip Completed</td>\n",
       "      <td>11/7/2016 17:57</td>\n",
       "      <td>11/7/2016 18:47</td>\n",
       "    </tr>\n",
       "    <tr>\n",
       "      <th>2</th>\n",
       "      <td>1807</td>\n",
       "      <td>City</td>\n",
       "      <td>1.0</td>\n",
       "      <td>Trip Completed</td>\n",
       "      <td>12/7/2016 9:17</td>\n",
       "      <td>12/7/2016 9:58</td>\n",
       "    </tr>\n",
       "    <tr>\n",
       "      <th>3</th>\n",
       "      <td>2532</td>\n",
       "      <td>Airport</td>\n",
       "      <td>1.0</td>\n",
       "      <td>Trip Completed</td>\n",
       "      <td>12/7/2016 21:08</td>\n",
       "      <td>12/7/2016 22:03</td>\n",
       "    </tr>\n",
       "    <tr>\n",
       "      <th>4</th>\n",
       "      <td>3112</td>\n",
       "      <td>City</td>\n",
       "      <td>1.0</td>\n",
       "      <td>Trip Completed</td>\n",
       "      <td>13-07-2016 08:33:16</td>\n",
       "      <td>13-07-2016 09:25:47</td>\n",
       "    </tr>\n",
       "  </tbody>\n",
       "</table>\n",
       "</div>"
      ],
      "text/plain": [
       "   Request id Pickup point  Driver id          Status    Request timestamp  \\\n",
       "0         619      Airport        1.0  Trip Completed      11/7/2016 11:51   \n",
       "1         867      Airport        1.0  Trip Completed      11/7/2016 17:57   \n",
       "2        1807         City        1.0  Trip Completed       12/7/2016 9:17   \n",
       "3        2532      Airport        1.0  Trip Completed      12/7/2016 21:08   \n",
       "4        3112         City        1.0  Trip Completed  13-07-2016 08:33:16   \n",
       "\n",
       "        Drop timestamp  \n",
       "0      11/7/2016 13:00  \n",
       "1      11/7/2016 18:47  \n",
       "2       12/7/2016 9:58  \n",
       "3      12/7/2016 22:03  \n",
       "4  13-07-2016 09:25:47  "
      ]
     },
     "execution_count": 2,
     "metadata": {},
     "output_type": "execute_result"
    }
   ],
   "source": [
    "### Reading the dataset with Pandas read_csv method\n",
    "df1 = pd.read_csv(r\"D:\\Uber Supply Demand Gap\\Uber Request Data.csv\")\n",
    "\n",
    "### Exploring the first five rows of the dataset\n",
    "df1.head()"
   ]
  },
  {
   "cell_type": "markdown",
   "metadata": {
    "colab_type": "text",
    "id": "StpItQn0Z9UA"
   },
   "source": [
    "#### General Overview of the dataset"
   ]
  },
  {
   "cell_type": "markdown",
   "metadata": {
    "colab_type": "text",
    "id": "AjxkRXNAZ9Us"
   },
   "source": [
    "**We note that the dataset has 6745 entries with 6 columns**"
   ]
  },
  {
   "cell_type": "code",
   "execution_count": 3,
   "metadata": {
    "colab": {
     "base_uri": "https://localhost:8080/",
     "height": 34
    },
    "colab_type": "code",
    "id": "MxP6hQS2Z9Ub",
    "outputId": "d1bbf722-95ba-4a16-d256-0be3f8da925a"
   },
   "outputs": [
    {
     "data": {
      "text/plain": [
       "(6745, 6)"
      ]
     },
     "execution_count": 3,
     "metadata": {},
     "output_type": "execute_result"
    }
   ],
   "source": [
    "### Displaying the total number of rows & columns\n",
    "\n",
    "df1.shape"
   ]
  },
  {
   "cell_type": "markdown",
   "metadata": {
    "colab_type": "text",
    "id": "WrJkQ2Q1Z9Uv"
   },
   "source": [
    "### Let's look at the Summary of the dataset"
   ]
  },
  {
   "cell_type": "code",
   "execution_count": 4,
   "metadata": {
    "colab": {
     "base_uri": "https://localhost:8080/",
     "height": 297
    },
    "colab_type": "code",
    "id": "XCbSZsDHZ9Uz",
    "outputId": "8b214057-78c9-4abe-e386-0b9f6080d771"
   },
   "outputs": [
    {
     "data": {
      "text/html": [
       "<div>\n",
       "<style scoped>\n",
       "    .dataframe tbody tr th:only-of-type {\n",
       "        vertical-align: middle;\n",
       "    }\n",
       "\n",
       "    .dataframe tbody tr th {\n",
       "        vertical-align: top;\n",
       "    }\n",
       "\n",
       "    .dataframe thead th {\n",
       "        text-align: right;\n",
       "    }\n",
       "</style>\n",
       "<table border=\"1\" class=\"dataframe\">\n",
       "  <thead>\n",
       "    <tr style=\"text-align: right;\">\n",
       "      <th></th>\n",
       "      <th>Request id</th>\n",
       "      <th>Driver id</th>\n",
       "    </tr>\n",
       "  </thead>\n",
       "  <tbody>\n",
       "    <tr>\n",
       "      <th>count</th>\n",
       "      <td>6745.000000</td>\n",
       "      <td>4095.000000</td>\n",
       "    </tr>\n",
       "    <tr>\n",
       "      <th>mean</th>\n",
       "      <td>3384.644922</td>\n",
       "      <td>149.501343</td>\n",
       "    </tr>\n",
       "    <tr>\n",
       "      <th>std</th>\n",
       "      <td>1955.099667</td>\n",
       "      <td>86.051994</td>\n",
       "    </tr>\n",
       "    <tr>\n",
       "      <th>min</th>\n",
       "      <td>1.000000</td>\n",
       "      <td>1.000000</td>\n",
       "    </tr>\n",
       "    <tr>\n",
       "      <th>25%</th>\n",
       "      <td>1691.000000</td>\n",
       "      <td>75.000000</td>\n",
       "    </tr>\n",
       "    <tr>\n",
       "      <th>50%</th>\n",
       "      <td>3387.000000</td>\n",
       "      <td>149.000000</td>\n",
       "    </tr>\n",
       "    <tr>\n",
       "      <th>75%</th>\n",
       "      <td>5080.000000</td>\n",
       "      <td>224.000000</td>\n",
       "    </tr>\n",
       "    <tr>\n",
       "      <th>max</th>\n",
       "      <td>6766.000000</td>\n",
       "      <td>300.000000</td>\n",
       "    </tr>\n",
       "  </tbody>\n",
       "</table>\n",
       "</div>"
      ],
      "text/plain": [
       "        Request id    Driver id\n",
       "count  6745.000000  4095.000000\n",
       "mean   3384.644922   149.501343\n",
       "std    1955.099667    86.051994\n",
       "min       1.000000     1.000000\n",
       "25%    1691.000000    75.000000\n",
       "50%    3387.000000   149.000000\n",
       "75%    5080.000000   224.000000\n",
       "max    6766.000000   300.000000"
      ]
     },
     "execution_count": 4,
     "metadata": {},
     "output_type": "execute_result"
    }
   ],
   "source": [
    "### Dataset Summary\n",
    "df1.describe()"
   ]
  },
  {
   "cell_type": "markdown",
   "metadata": {
    "colab_type": "text",
    "id": "0CEllwmsZ9VD"
   },
   "source": [
    "Here, we note that the total number of Request id's allotted are **6745** and Driver id's allocation are **4095**. The driver id is unique for everyone.\n",
    "\n",
    "The maximum Request id generated is **6766** and the maximum Driver id is **300**"
   ]
  },
  {
   "cell_type": "markdown",
   "metadata": {
    "colab_type": "text",
    "id": "ZtcgSGvHZ9VJ"
   },
   "source": [
    "# Checking the quality of the dataset"
   ]
  },
  {
   "cell_type": "code",
   "execution_count": 5,
   "metadata": {
    "colab": {
     "base_uri": "https://localhost:8080/",
     "height": 111
    },
    "colab_type": "code",
    "id": "HE1M25h-Z9VN",
    "outputId": "aebabaf5-5546-445f-ebfb-e46649f3e054"
   },
   "outputs": [
    {
     "data": {
      "text/html": [
       "<div>\n",
       "<style scoped>\n",
       "    .dataframe tbody tr th:only-of-type {\n",
       "        vertical-align: middle;\n",
       "    }\n",
       "\n",
       "    .dataframe tbody tr th {\n",
       "        vertical-align: top;\n",
       "    }\n",
       "\n",
       "    .dataframe thead th {\n",
       "        text-align: right;\n",
       "    }\n",
       "</style>\n",
       "<table border=\"1\" class=\"dataframe\">\n",
       "  <thead>\n",
       "    <tr style=\"text-align: right;\">\n",
       "      <th></th>\n",
       "      <th>column_name</th>\n",
       "      <th>missing_count</th>\n",
       "    </tr>\n",
       "  </thead>\n",
       "  <tbody>\n",
       "    <tr>\n",
       "      <th>2</th>\n",
       "      <td>Driver id</td>\n",
       "      <td>2650</td>\n",
       "    </tr>\n",
       "    <tr>\n",
       "      <th>5</th>\n",
       "      <td>Drop timestamp</td>\n",
       "      <td>3914</td>\n",
       "    </tr>\n",
       "  </tbody>\n",
       "</table>\n",
       "</div>"
      ],
      "text/plain": [
       "      column_name  missing_count\n",
       "2       Driver id           2650\n",
       "5  Drop timestamp           3914"
      ]
     },
     "execution_count": 5,
     "metadata": {},
     "output_type": "execute_result"
    }
   ],
   "source": [
    "### Finding the missing value in the dataset\n",
    "\n",
    "missing_data = df1.isnull().sum(axis=0).reset_index()\n",
    "missing_data.columns = ['column_name', 'missing_count']\n",
    "missing_data = missing_data[missing_data['missing_count']>0]     \n",
    "missing_data = missing_data.sort_values(by='missing_count')\n",
    "missing_data"
   ]
  },
  {
   "cell_type": "markdown",
   "metadata": {
    "colab_type": "text",
    "id": "WpJtuPhgZ9Vd"
   },
   "source": [
    "We observe that there are 2650 null values for Driver id and 3914 null values for Drop timestamp"
   ]
  },
  {
   "cell_type": "code",
   "execution_count": 6,
   "metadata": {
    "colab": {
     "base_uri": "https://localhost:8080/",
     "height": 85
    },
    "colab_type": "code",
    "id": "weejjrbQZ9Vl",
    "outputId": "0fca6db3-ce9f-4c68-e9ab-5e32d63d7f2f"
   },
   "outputs": [
    {
     "data": {
      "text/plain": [
       "Status\n",
       "Cancelled            1264\n",
       "No Cars Available    2650\n",
       "dtype: int64"
      ]
     },
     "execution_count": 6,
     "metadata": {},
     "output_type": "execute_result"
    }
   ],
   "source": [
    "### Calculating the  total no. of entries having NaN values\n",
    "df1[(df1['Drop timestamp'].isnull())].groupby('Status').size()"
   ]
  },
  {
   "cell_type": "markdown",
   "metadata": {
    "colab_type": "text",
    "id": "FF-8sZb0Z9WA"
   },
   "source": [
    "The Total of No of Cars Cancelled & Status is 3914 which is the exact number of null values in the Drop timestamp. The Driver id and the Drop timestamp have null values for the requets that can not be served due to non availibililty of the cabs, so, it's important to keep the null values as they would tell us when Uber couldn't serve the request of a customer due to shortage in no. of cabs."
   ]
  },
  {
   "cell_type": "markdown",
   "metadata": {
    "colab_type": "text",
    "id": "QgPQeo5qZ9WE"
   },
   "source": [
    "We can drop the column Driver id, as our main aim is to find how many times was the request made by passengers served or not, and not how many requests were served by a single driver."
   ]
  },
  {
   "cell_type": "code",
   "execution_count": 7,
   "metadata": {
    "colab": {
     "base_uri": "https://localhost:8080/",
     "height": 204
    },
    "colab_type": "code",
    "id": "lqcx_k93Z9WI",
    "outputId": "f136b806-1d69-4502-d3ff-fcb105d974d6"
   },
   "outputs": [
    {
     "data": {
      "text/html": [
       "<div>\n",
       "<style scoped>\n",
       "    .dataframe tbody tr th:only-of-type {\n",
       "        vertical-align: middle;\n",
       "    }\n",
       "\n",
       "    .dataframe tbody tr th {\n",
       "        vertical-align: top;\n",
       "    }\n",
       "\n",
       "    .dataframe thead th {\n",
       "        text-align: right;\n",
       "    }\n",
       "</style>\n",
       "<table border=\"1\" class=\"dataframe\">\n",
       "  <thead>\n",
       "    <tr style=\"text-align: right;\">\n",
       "      <th></th>\n",
       "      <th>Request id</th>\n",
       "      <th>Pickup point</th>\n",
       "      <th>Status</th>\n",
       "      <th>Request timestamp</th>\n",
       "      <th>Drop timestamp</th>\n",
       "    </tr>\n",
       "  </thead>\n",
       "  <tbody>\n",
       "    <tr>\n",
       "      <th>0</th>\n",
       "      <td>619</td>\n",
       "      <td>Airport</td>\n",
       "      <td>Trip Completed</td>\n",
       "      <td>11/7/2016 11:51</td>\n",
       "      <td>11/7/2016 13:00</td>\n",
       "    </tr>\n",
       "    <tr>\n",
       "      <th>1</th>\n",
       "      <td>867</td>\n",
       "      <td>Airport</td>\n",
       "      <td>Trip Completed</td>\n",
       "      <td>11/7/2016 17:57</td>\n",
       "      <td>11/7/2016 18:47</td>\n",
       "    </tr>\n",
       "    <tr>\n",
       "      <th>2</th>\n",
       "      <td>1807</td>\n",
       "      <td>City</td>\n",
       "      <td>Trip Completed</td>\n",
       "      <td>12/7/2016 9:17</td>\n",
       "      <td>12/7/2016 9:58</td>\n",
       "    </tr>\n",
       "    <tr>\n",
       "      <th>3</th>\n",
       "      <td>2532</td>\n",
       "      <td>Airport</td>\n",
       "      <td>Trip Completed</td>\n",
       "      <td>12/7/2016 21:08</td>\n",
       "      <td>12/7/2016 22:03</td>\n",
       "    </tr>\n",
       "    <tr>\n",
       "      <th>4</th>\n",
       "      <td>3112</td>\n",
       "      <td>City</td>\n",
       "      <td>Trip Completed</td>\n",
       "      <td>13-07-2016 08:33:16</td>\n",
       "      <td>13-07-2016 09:25:47</td>\n",
       "    </tr>\n",
       "  </tbody>\n",
       "</table>\n",
       "</div>"
      ],
      "text/plain": [
       "   Request id Pickup point          Status    Request timestamp  \\\n",
       "0         619      Airport  Trip Completed      11/7/2016 11:51   \n",
       "1         867      Airport  Trip Completed      11/7/2016 17:57   \n",
       "2        1807         City  Trip Completed       12/7/2016 9:17   \n",
       "3        2532      Airport  Trip Completed      12/7/2016 21:08   \n",
       "4        3112         City  Trip Completed  13-07-2016 08:33:16   \n",
       "\n",
       "        Drop timestamp  \n",
       "0      11/7/2016 13:00  \n",
       "1      11/7/2016 18:47  \n",
       "2       12/7/2016 9:58  \n",
       "3      12/7/2016 22:03  \n",
       "4  13-07-2016 09:25:47  "
      ]
     },
     "execution_count": 7,
     "metadata": {},
     "output_type": "execute_result"
    }
   ],
   "source": [
    "### Dropping the Driver id column\n",
    "df=df1.drop(\"Driver id\", axis = 1)\n",
    "df.head()"
   ]
  },
  {
   "cell_type": "code",
   "execution_count": 8,
   "metadata": {
    "colab": {
     "base_uri": "https://localhost:8080/",
     "height": 34
    },
    "colab_type": "code",
    "id": "-uuFHt-4Z9Wd",
    "outputId": "c5e0c5f9-35fe-4b82-fb01-0ebe093b5953"
   },
   "outputs": [
    {
     "data": {
      "text/plain": [
       "array(['Trip Completed', 'Cancelled', 'No Cars Available'], dtype=object)"
      ]
     },
     "execution_count": 8,
     "metadata": {},
     "output_type": "execute_result"
    }
   ],
   "source": [
    "### Let us check the unique values that are present in the Status column\n",
    "df['Status'].unique()"
   ]
  },
  {
   "cell_type": "markdown",
   "metadata": {
    "colab_type": "text",
    "id": "pJ5oCZ6PZ9Wq"
   },
   "source": [
    "There are total three types of Categories of data present in the Status which include 'Trip Completed', 'Cancelled' & 'No Cars Available'. This shows the trip only from City to Airport and Airport to City."
   ]
  },
  {
   "cell_type": "code",
   "execution_count": 9,
   "metadata": {
    "colab": {
     "base_uri": "https://localhost:8080/",
     "height": 34
    },
    "colab_type": "code",
    "id": "SfCjQoQaZ9Wu",
    "outputId": "740ae993-1771-44e2-bb47-a6bf00ab104b"
   },
   "outputs": [
    {
     "data": {
      "text/plain": [
       "array(['Airport', 'City'], dtype=object)"
      ]
     },
     "execution_count": 9,
     "metadata": {},
     "output_type": "execute_result"
    }
   ],
   "source": [
    "### Checking the unique values present in Pickup point column\n",
    "df['Pickup point'].unique()"
   ]
  },
  {
   "cell_type": "markdown",
   "metadata": {
    "colab_type": "text",
    "id": "AlVyaaJUZ9XC"
   },
   "source": [
    "'Airport' & 'City' are the only two unique values which are present in the Pickup Point column."
   ]
  },
  {
   "cell_type": "markdown",
   "metadata": {
    "colab_type": "text",
    "id": "ljGFcQ6QZ9XF"
   },
   "source": [
    " ## Deriving New Columns"
   ]
  },
  {
   "cell_type": "code",
   "execution_count": 10,
   "metadata": {
    "colab": {
     "base_uri": "https://localhost:8080/",
     "height": 306
    },
    "colab_type": "code",
    "id": "Ec6cm9WvZ9XI",
    "outputId": "a8a3f792-2745-4752-a19f-40c24f515dc8"
   },
   "outputs": [
    {
     "data": {
      "text/html": [
       "<div>\n",
       "<style scoped>\n",
       "    .dataframe tbody tr th:only-of-type {\n",
       "        vertical-align: middle;\n",
       "    }\n",
       "\n",
       "    .dataframe tbody tr th {\n",
       "        vertical-align: top;\n",
       "    }\n",
       "\n",
       "    .dataframe thead th {\n",
       "        text-align: right;\n",
       "    }\n",
       "</style>\n",
       "<table border=\"1\" class=\"dataframe\">\n",
       "  <thead>\n",
       "    <tr style=\"text-align: right;\">\n",
       "      <th></th>\n",
       "      <th>Request id</th>\n",
       "      <th>Pickup point</th>\n",
       "      <th>Status</th>\n",
       "      <th>Request timestamp</th>\n",
       "      <th>Drop timestamp</th>\n",
       "      <th>Request_Hour</th>\n",
       "      <th>TimeSlot</th>\n",
       "      <th>Cabs_Availability</th>\n",
       "    </tr>\n",
       "  </thead>\n",
       "  <tbody>\n",
       "    <tr>\n",
       "      <th>0</th>\n",
       "      <td>619</td>\n",
       "      <td>Airport</td>\n",
       "      <td>Trip Completed</td>\n",
       "      <td>11/7/2016 11:51</td>\n",
       "      <td>11/7/2016 13:00</td>\n",
       "      <td>11</td>\n",
       "      <td>Noon</td>\n",
       "      <td>Available</td>\n",
       "    </tr>\n",
       "    <tr>\n",
       "      <th>1</th>\n",
       "      <td>867</td>\n",
       "      <td>Airport</td>\n",
       "      <td>Trip Completed</td>\n",
       "      <td>11/7/2016 17:57</td>\n",
       "      <td>11/7/2016 18:47</td>\n",
       "      <td>17</td>\n",
       "      <td>Evening</td>\n",
       "      <td>Available</td>\n",
       "    </tr>\n",
       "    <tr>\n",
       "      <th>2</th>\n",
       "      <td>1807</td>\n",
       "      <td>City</td>\n",
       "      <td>Trip Completed</td>\n",
       "      <td>12/7/2016 9:17</td>\n",
       "      <td>12/7/2016 9:58</td>\n",
       "      <td>9</td>\n",
       "      <td>Morning</td>\n",
       "      <td>Available</td>\n",
       "    </tr>\n",
       "    <tr>\n",
       "      <th>3</th>\n",
       "      <td>2532</td>\n",
       "      <td>Airport</td>\n",
       "      <td>Trip Completed</td>\n",
       "      <td>12/7/2016 21:08</td>\n",
       "      <td>12/7/2016 22:03</td>\n",
       "      <td>21</td>\n",
       "      <td>Evening</td>\n",
       "      <td>Available</td>\n",
       "    </tr>\n",
       "    <tr>\n",
       "      <th>4</th>\n",
       "      <td>3112</td>\n",
       "      <td>City</td>\n",
       "      <td>Trip Completed</td>\n",
       "      <td>13-07-2016 08:33:16</td>\n",
       "      <td>13-07-2016 09:25:47</td>\n",
       "      <td>8</td>\n",
       "      <td>Morning</td>\n",
       "      <td>Available</td>\n",
       "    </tr>\n",
       "  </tbody>\n",
       "</table>\n",
       "</div>"
      ],
      "text/plain": [
       "   Request id Pickup point          Status    Request timestamp  \\\n",
       "0         619      Airport  Trip Completed      11/7/2016 11:51   \n",
       "1         867      Airport  Trip Completed      11/7/2016 17:57   \n",
       "2        1807         City  Trip Completed       12/7/2016 9:17   \n",
       "3        2532      Airport  Trip Completed      12/7/2016 21:08   \n",
       "4        3112         City  Trip Completed  13-07-2016 08:33:16   \n",
       "\n",
       "        Drop timestamp  Request_Hour  TimeSlot Cabs_Availability  \n",
       "0      11/7/2016 13:00            11      Noon         Available  \n",
       "1      11/7/2016 18:47            17   Evening         Available  \n",
       "2       12/7/2016 9:58             9   Morning         Available  \n",
       "3      12/7/2016 22:03            21   Evening         Available  \n",
       "4  13-07-2016 09:25:47             8   Morning         Available  "
      ]
     },
     "execution_count": 10,
     "metadata": {},
     "output_type": "execute_result"
    }
   ],
   "source": [
    "### Let us derive some new variables which will be used for the analysis.\n",
    "\n",
    "### Calculating hour from the Request timestamp\n",
    "df['Request_Hour'] = pd.to_datetime(df['Request timestamp']).dt.hour\n",
    "\n",
    "\n",
    "### Let's divide the timeslots into different categories like- Morning, Noon, Evening, Night, Dawn . \n",
    "df[\"TimeSlot\"] = df[\"Request_Hour\"].apply(lambda x: \"Dawn\" if x<=4 else (\" Morning\" if x<=9 else (\"Noon\" if x<=16 else (\" Evening\" if x<=21 else \"Night\"))))\n",
    "\n",
    "### Let us now work on Supply & Demand. Supply is when the the cars are available(Cabs Availability) and the trip got completed else there is Demand.\n",
    "df['Cabs_Availability'] = df['Status'].apply(lambda x: \"Available\" if x == 'Trip Completed' else 'Not Available')\n",
    "\n",
    "df.head()"
   ]
  },
  {
   "cell_type": "code",
   "execution_count": 11,
   "metadata": {
    "colab": {
     "base_uri": "https://localhost:8080/",
     "height": 34
    },
    "colab_type": "code",
    "id": "oy0EyvkfZ9XV",
    "outputId": "00268174-503f-4333-9140-afaa6365b160"
   },
   "outputs": [
    {
     "data": {
      "text/plain": [
       "(6745, 8)"
      ]
     },
     "execution_count": 11,
     "metadata": {},
     "output_type": "execute_result"
    }
   ],
   "source": [
    "### Let's check the shape of the data now\n",
    "df.shape"
   ]
  },
  {
   "cell_type": "markdown",
   "metadata": {
    "colab_type": "text",
    "id": "7ZCeE-4cZ9Xs"
   },
   "source": [
    "As we have successfully alloted the timeslots in which cab was requested. Now let's derive columns as **Cab Demand** & **Cab Supply**. Cab Demand will always have values as 1 and Cab Supply will show value as 1 when trip is completed else It shows as 0."
   ]
  },
  {
   "cell_type": "code",
   "execution_count": 12,
   "metadata": {
    "colab": {},
    "colab_type": "code",
    "id": "2WTEZ7SIZ9X3"
   },
   "outputs": [],
   "source": [
    "### Deriving columns Cab Demand , Cab Supply and assigning values to them.\n",
    "\n",
    "df['Cab_Demand'] = 1\n",
    "df['Cab_Supply'] = 0\n",
    "df.loc[(df['Status']== 'Trip Completed'), 'Cab_Supply']=1"
   ]
  },
  {
   "cell_type": "code",
   "execution_count": 13,
   "metadata": {
    "colab": {
     "base_uri": "https://localhost:8080/",
     "height": 343
    },
    "colab_type": "code",
    "id": "iJ2wZyPXZ9YT",
    "outputId": "46183dc7-cf2d-4774-8a50-6cd94152c357"
   },
   "outputs": [
    {
     "data": {
      "text/html": [
       "<div>\n",
       "<style scoped>\n",
       "    .dataframe tbody tr th:only-of-type {\n",
       "        vertical-align: middle;\n",
       "    }\n",
       "\n",
       "    .dataframe tbody tr th {\n",
       "        vertical-align: top;\n",
       "    }\n",
       "\n",
       "    .dataframe thead th {\n",
       "        text-align: right;\n",
       "    }\n",
       "</style>\n",
       "<table border=\"1\" class=\"dataframe\">\n",
       "  <thead>\n",
       "    <tr style=\"text-align: right;\">\n",
       "      <th></th>\n",
       "      <th>Request id</th>\n",
       "      <th>Pickup point</th>\n",
       "      <th>Status</th>\n",
       "      <th>Request timestamp</th>\n",
       "      <th>Drop timestamp</th>\n",
       "      <th>Request_Hour</th>\n",
       "      <th>TimeSlot</th>\n",
       "      <th>Cabs_Availability</th>\n",
       "      <th>Cab_Demand</th>\n",
       "      <th>Cab_Supply</th>\n",
       "    </tr>\n",
       "  </thead>\n",
       "  <tbody>\n",
       "    <tr>\n",
       "      <th>0</th>\n",
       "      <td>619</td>\n",
       "      <td>Airport</td>\n",
       "      <td>Trip Completed</td>\n",
       "      <td>11/7/2016 11:51</td>\n",
       "      <td>11/7/2016 13:00</td>\n",
       "      <td>11</td>\n",
       "      <td>Noon</td>\n",
       "      <td>Available</td>\n",
       "      <td>1</td>\n",
       "      <td>1</td>\n",
       "    </tr>\n",
       "    <tr>\n",
       "      <th>1</th>\n",
       "      <td>867</td>\n",
       "      <td>Airport</td>\n",
       "      <td>Trip Completed</td>\n",
       "      <td>11/7/2016 17:57</td>\n",
       "      <td>11/7/2016 18:47</td>\n",
       "      <td>17</td>\n",
       "      <td>Evening</td>\n",
       "      <td>Available</td>\n",
       "      <td>1</td>\n",
       "      <td>1</td>\n",
       "    </tr>\n",
       "    <tr>\n",
       "      <th>2</th>\n",
       "      <td>1807</td>\n",
       "      <td>City</td>\n",
       "      <td>Trip Completed</td>\n",
       "      <td>12/7/2016 9:17</td>\n",
       "      <td>12/7/2016 9:58</td>\n",
       "      <td>9</td>\n",
       "      <td>Morning</td>\n",
       "      <td>Available</td>\n",
       "      <td>1</td>\n",
       "      <td>1</td>\n",
       "    </tr>\n",
       "    <tr>\n",
       "      <th>3</th>\n",
       "      <td>2532</td>\n",
       "      <td>Airport</td>\n",
       "      <td>Trip Completed</td>\n",
       "      <td>12/7/2016 21:08</td>\n",
       "      <td>12/7/2016 22:03</td>\n",
       "      <td>21</td>\n",
       "      <td>Evening</td>\n",
       "      <td>Available</td>\n",
       "      <td>1</td>\n",
       "      <td>1</td>\n",
       "    </tr>\n",
       "    <tr>\n",
       "      <th>4</th>\n",
       "      <td>3112</td>\n",
       "      <td>City</td>\n",
       "      <td>Trip Completed</td>\n",
       "      <td>13-07-2016 08:33:16</td>\n",
       "      <td>13-07-2016 09:25:47</td>\n",
       "      <td>8</td>\n",
       "      <td>Morning</td>\n",
       "      <td>Available</td>\n",
       "      <td>1</td>\n",
       "      <td>1</td>\n",
       "    </tr>\n",
       "  </tbody>\n",
       "</table>\n",
       "</div>"
      ],
      "text/plain": [
       "   Request id Pickup point          Status    Request timestamp  \\\n",
       "0         619      Airport  Trip Completed      11/7/2016 11:51   \n",
       "1         867      Airport  Trip Completed      11/7/2016 17:57   \n",
       "2        1807         City  Trip Completed       12/7/2016 9:17   \n",
       "3        2532      Airport  Trip Completed      12/7/2016 21:08   \n",
       "4        3112         City  Trip Completed  13-07-2016 08:33:16   \n",
       "\n",
       "        Drop timestamp  Request_Hour  TimeSlot Cabs_Availability  Cab_Demand  \\\n",
       "0      11/7/2016 13:00            11      Noon         Available           1   \n",
       "1      11/7/2016 18:47            17   Evening         Available           1   \n",
       "2       12/7/2016 9:58             9   Morning         Available           1   \n",
       "3      12/7/2016 22:03            21   Evening         Available           1   \n",
       "4  13-07-2016 09:25:47             8   Morning         Available           1   \n",
       "\n",
       "   Cab_Supply  \n",
       "0           1  \n",
       "1           1  \n",
       "2           1  \n",
       "3           1  \n",
       "4           1  "
      ]
     },
     "execution_count": 13,
     "metadata": {},
     "output_type": "execute_result"
    }
   ],
   "source": [
    "df.head()"
   ]
  },
  {
   "cell_type": "markdown",
   "metadata": {
    "colab_type": "text",
    "id": "X0mHM8xPZ9Yn"
   },
   "source": [
    "## Identifying the most pressing problems for Uber\n"
   ]
  },
  {
   "cell_type": "code",
   "execution_count": 14,
   "metadata": {
    "colab": {
     "base_uri": "https://localhost:8080/",
     "height": 553
    },
    "colab_type": "code",
    "id": "HxO2RHHlZ9Yv",
    "outputId": "d868eeca-0207-4c7c-a2e4-158a7d289c70"
   },
   "outputs": [
    {
     "data": {
      "text/plain": [
       "Text(0.5, 1.0, 'Frequency of request by hour')"
      ]
     },
     "execution_count": 14,
     "metadata": {},
     "output_type": "execute_result"
    },
    {
     "data": {
      "image/png": "[encoded data removed]",
      "text/plain": [
       "<Figure size 1440x576 with 1 Axes>"
      ]
     },
     "metadata": {
      "needs_background": "light"
     },
     "output_type": "display_data"
    }
   ],
   "source": [
    "### Frequency of request by hour\n",
    "### It tells us that the request made at a particular hour were completed, cancelled or No cabs were available.\n",
    "\n",
    "df.groupby(['Request_Hour' ,'Status']).size().unstack().plot(kind = 'bar', stacked =True, figsize=(20,8))\n",
    "plt.title(\"Frequency of request by hour\")"
   ]
  },
  {
   "cell_type": "code",
   "execution_count": 15,
   "metadata": {
    "colab": {
     "base_uri": "https://localhost:8080/",
     "height": 295
    },
    "colab_type": "code",
    "id": "IXf3fZUDZ9Y8",
    "outputId": "a434f697-9f4d-4a15-9810-39af5e0f2671"
   },
   "outputs": [
    {
     "data": {
      "image/png": "[encoded data removed]",
      "text/plain": [
       "<Figure size 576x288 with 1 Axes>"
      ]
     },
     "metadata": {
      "needs_background": "light"
     },
     "output_type": "display_data"
    }
   ],
   "source": [
    "### Problematic Types of Request\n",
    "### It displays the graph for the request of pickup point from Airport to City or City to Airport\n",
    "\n",
    "plt.figure(figsize=(8,4))\n",
    "sns.countplot(df['Pickup point'])\n",
    "plt.title(\"Problematic types of request\")\n",
    "sns.despine()"
   ]
  },
  {
   "cell_type": "markdown",
   "metadata": {
    "colab_type": "text",
    "id": "WFF1vH58Z9ZI"
   },
   "source": [
    "We observe that about 3250 request where made from the Airport and about 3500 request were made  from the city."
   ]
  },
  {
   "cell_type": "code",
   "execution_count": 16,
   "metadata": {
    "colab": {
     "base_uri": "https://localhost:8080/",
     "height": 102
    },
    "colab_type": "code",
    "id": "sz4zNTjOZ9ZL",
    "outputId": "bd449681-5997-4f12-c9e5-84e906c47af6"
   },
   "outputs": [
    {
     "data": {
      "text/plain": [
       "count     6745\n",
       "unique       2\n",
       "top       City\n",
       "freq      3507\n",
       "Name: Pickup point, dtype: object"
      ]
     },
     "execution_count": 16,
     "metadata": {},
     "output_type": "execute_result"
    }
   ],
   "source": [
    "### Stats for Pickup point column\n",
    "df['Pickup point'].describe()"
   ]
  },
  {
   "cell_type": "markdown",
   "metadata": {
    "colab_type": "text",
    "id": "ZanSWHWpZ9Zf"
   },
   "source": [
    "As we see that there were slightly more number of pickups from the city for the airport rather than that from the airport to city."
   ]
  },
  {
   "cell_type": "code",
   "execution_count": 17,
   "metadata": {
    "colab": {
     "base_uri": "https://localhost:8080/",
     "height": 295
    },
    "colab_type": "code",
    "id": "moT_pBE3Z9Zi",
    "outputId": "ffc18f93-3265-436f-d02d-6d28c21855b8"
   },
   "outputs": [
    {
     "data": {
      "image/png": "[encoded data removed]",
      "text/plain": [
       "<Figure size 576x288 with 1 Axes>"
      ]
     },
     "metadata": {
      "needs_background": "light"
     },
     "output_type": "display_data"
    }
   ],
   "source": [
    "### plot to see the distribution of values in Status\n",
    "\n",
    "plt.figure(figsize=(8,4))\n",
    "sns.countplot(df['Status'])\n",
    "plt.title(\"See the distribution of values in Status\")\n",
    "sns.despine()"
   ]
  },
  {
   "cell_type": "code",
   "execution_count": 18,
   "metadata": {
    "colab": {
     "base_uri": "https://localhost:8080/",
     "height": 102
    },
    "colab_type": "code",
    "id": "Fgli4YNeZ9Zu",
    "outputId": "acd5a1e1-104d-45a6-a791-603d6b738b05"
   },
   "outputs": [
    {
     "data": {
      "text/plain": [
       "count               6745\n",
       "unique                 3\n",
       "top       Trip Completed\n",
       "freq                2831\n",
       "Name: Status, dtype: object"
      ]
     },
     "execution_count": 18,
     "metadata": {},
     "output_type": "execute_result"
    }
   ],
   "source": [
    "### Stats for Status column\n",
    "df['Status'].describe()"
   ]
  },
  {
   "cell_type": "markdown",
   "metadata": {
    "colab_type": "text",
    "id": "HvhmBy3zZ9Z6"
   },
   "source": [
    "Number of trips completed is slightly more than the no. of times a cab was not available."
   ]
  },
  {
   "cell_type": "code",
   "execution_count": 19,
   "metadata": {
    "colab": {
     "base_uri": "https://localhost:8080/",
     "height": 464
    },
    "colab_type": "code",
    "id": "k5igl4FmZ9Z9",
    "outputId": "1c35940b-bb4b-4460-eb86-af0a0477c5ff"
   },
   "outputs": [
    {
     "data": {
      "text/plain": [
       "<matplotlib.axes._subplots.AxesSubplot at 0x1975f0b7518>"
      ]
     },
     "execution_count": 19,
     "metadata": {},
     "output_type": "execute_result"
    },
    {
     "data": {
      "image/png": "[encoded data removed]",
      "text/plain": [
       "<Figure size 864x504 with 1 Axes>"
      ]
     },
     "metadata": {
      "needs_background": "light"
     },
     "output_type": "display_data"
    }
   ],
   "source": [
    "### plot distribution of the Cabs Availability\n",
    "plt.rcParams['figure.figsize'] = (12,7)\n",
    "sns.countplot(x= df['Cabs_Availability'], data = df, palette = 'Set1')"
   ]
  },
  {
   "cell_type": "code",
   "execution_count": 20,
   "metadata": {
    "colab": {
     "base_uri": "https://localhost:8080/",
     "height": 102
    },
    "colab_type": "code",
    "id": "YCaG6KR0Z9aO",
    "outputId": "7465d26b-5ef3-4563-9c58-2f221fc9a191"
   },
   "outputs": [
    {
     "data": {
      "text/plain": [
       "count              6745\n",
       "unique                2\n",
       "top       Not Available\n",
       "freq               3914\n",
       "Name: Cabs_Availability, dtype: object"
      ]
     },
     "execution_count": 20,
     "metadata": {},
     "output_type": "execute_result"
    }
   ],
   "source": [
    "### Stats for Cabs Availability\n",
    "df['Cabs_Availability'].describe()"
   ]
  },
  {
   "cell_type": "markdown",
   "metadata": {
    "colab_type": "text",
    "id": "UZLRuL_CZ9ah"
   },
   "source": [
    "The above plot tells us that the how many cabs are Available or not. Cabs Availability shows that the Trips have been completed and Not Available shows that Trips Not Completed. "
   ]
  },
  {
   "cell_type": "code",
   "execution_count": 21,
   "metadata": {
    "colab": {
     "base_uri": "https://localhost:8080/",
     "height": 523
    },
    "colab_type": "code",
    "id": "jwJpd8mcZ9al",
    "outputId": "f0c800d6-689f-4165-af7d-0e6b163d3bb6"
   },
   "outputs": [
    {
     "data": {
      "text/plain": [
       "Text(0, 0.5, '')"
      ]
     },
     "execution_count": 21,
     "metadata": {},
     "output_type": "execute_result"
    },
    {
     "data": {
      "image/png": "[encoded data removed]",
      "text/plain": [
       "<Figure size 576x576 with 1 Axes>"
      ]
     },
     "metadata": {},
     "output_type": "display_data"
    }
   ],
   "source": [
    "### Problematic Time Slots\n",
    "\n",
    "df[(df[\"Cabs_Availability\"]==\"Not Available\")].groupby(['TimeSlot']).size().plot(kind=\"pie\",stacked=True,figsize=(8, 8),table=True,title=\"Problematic time slots\")\n",
    "plt.ylabel(\"\")"
   ]
  },
  {
   "cell_type": "markdown",
   "metadata": {
    "colab_type": "text",
    "id": "pBvyvjUBZ9a4"
   },
   "source": [
    "As we know that we have divided the time slots into five categories. The above pie chart tells us about the Non Availability of cabs in different timeslots. From the table we can note the values of Cabs Non- Availability(Cancelled + No cabs Available). Non Availability of cars were more in the evening (i.e b/w 4pm - 9pm). At night the non-availability of cabs is least."
   ]
  },
  {
   "cell_type": "code",
   "execution_count": 22,
   "metadata": {
    "colab": {},
    "colab_type": "code",
    "id": "rf0aO_qSZ9a8"
   },
   "outputs": [],
   "source": [
    "### import for mosaic plot\n",
    "from statsmodels.graphics.mosaicplot import mosaic"
   ]
  },
  {
   "cell_type": "code",
   "execution_count": 23,
   "metadata": {
    "colab": {
     "base_uri": "https://localhost:8080/",
     "height": 486
    },
    "colab_type": "code",
    "id": "nm2nxFh-Z9bG",
    "outputId": "06b2c6c8-6862-4054-e3a0-b7b6e5d0055e"
   },
   "outputs": [
    {
     "data": {
      "image/png": "[encoded data removed]",
      "text/plain": [
       "<Figure size 1080x576 with 3 Axes>"
      ]
     },
     "metadata": {
      "needs_background": "light"
     },
     "output_type": "display_data"
    }
   ],
   "source": [
    "### Mosaic plot between Status & Pickup Point\n",
    "plt.rcParams['figure.figsize'] = (15,8)\n",
    "mosaic(df, ['Status', 'Pickup point'])\n",
    "plt.show()"
   ]
  },
  {
   "cell_type": "code",
   "execution_count": 24,
   "metadata": {
    "colab": {
     "base_uri": "https://localhost:8080/",
     "height": 173
    },
    "colab_type": "code",
    "id": "oge8UeUOZ9bS",
    "outputId": "f321a147-f601-4b1e-e2ef-80a61d2811d8"
   },
   "outputs": [
    {
     "data": {
      "text/html": [
       "<div>\n",
       "<style scoped>\n",
       "    .dataframe tbody tr th:only-of-type {\n",
       "        vertical-align: middle;\n",
       "    }\n",
       "\n",
       "    .dataframe tbody tr th {\n",
       "        vertical-align: top;\n",
       "    }\n",
       "\n",
       "    .dataframe thead th {\n",
       "        text-align: right;\n",
       "    }\n",
       "</style>\n",
       "<table border=\"1\" class=\"dataframe\">\n",
       "  <thead>\n",
       "    <tr style=\"text-align: right;\">\n",
       "      <th></th>\n",
       "      <th>Status</th>\n",
       "      <th>Pickup point</th>\n",
       "    </tr>\n",
       "  </thead>\n",
       "  <tbody>\n",
       "    <tr>\n",
       "      <th>count</th>\n",
       "      <td>6745</td>\n",
       "      <td>6745</td>\n",
       "    </tr>\n",
       "    <tr>\n",
       "      <th>unique</th>\n",
       "      <td>3</td>\n",
       "      <td>2</td>\n",
       "    </tr>\n",
       "    <tr>\n",
       "      <th>top</th>\n",
       "      <td>Trip Completed</td>\n",
       "      <td>City</td>\n",
       "    </tr>\n",
       "    <tr>\n",
       "      <th>freq</th>\n",
       "      <td>2831</td>\n",
       "      <td>3507</td>\n",
       "    </tr>\n",
       "  </tbody>\n",
       "</table>\n",
       "</div>"
      ],
      "text/plain": [
       "                Status Pickup point\n",
       "count             6745         6745\n",
       "unique               3            2\n",
       "top     Trip Completed         City\n",
       "freq              2831         3507"
      ]
     },
     "execution_count": 24,
     "metadata": {},
     "output_type": "execute_result"
    }
   ],
   "source": [
    "df[['Status','Pickup point']].describe()"
   ]
  },
  {
   "cell_type": "markdown",
   "metadata": {
    "colab_type": "text",
    "id": "ClygTnKGZ9bf"
   },
   "source": [
    "We observe that the **Trips Completed** from the City and the Airport are almost same. While more rides got **cancelled** at the City than the Airport. Also no of cabs not available for the rides from the Airport is comparatively larger than the rides not available from the city."
   ]
  },
  {
   "cell_type": "code",
   "execution_count": 25,
   "metadata": {
    "colab": {
     "base_uri": "https://localhost:8080/",
     "height": 463
    },
    "colab_type": "code",
    "id": "ZsakqSNRZ9bh",
    "outputId": "197342a0-f0ff-4ef4-b783-524accb7a71b"
   },
   "outputs": [
    {
     "data": {
      "text/plain": [
       "<matplotlib.axes._subplots.AxesSubplot at 0x1975f20a240>"
      ]
     },
     "execution_count": 25,
     "metadata": {},
     "output_type": "execute_result"
    },
    {
     "data": {
      "image/png": "[encoded data removed]",
      "text/plain": [
       "<Figure size 864x504 with 1 Axes>"
      ]
     },
     "metadata": {
      "needs_background": "light"
     },
     "output_type": "display_data"
    }
   ],
   "source": [
    "### PLot between Timeslot & Status\n",
    "plt.rcParams['figure.figsize'] = (12,7)\n",
    "sns.countplot(x= df['TimeSlot'], hue=df['Status'],  data = df, palette = 'Set2')"
   ]
  },
  {
   "cell_type": "markdown",
   "metadata": {
    "colab_type": "text",
    "id": "ntNXNtmaZ9bx"
   },
   "source": [
    "We note that most of the cabs were Available in the Evening time i.e from 5:00 PM- 9:00 PM"
   ]
  },
  {
   "cell_type": "code",
   "execution_count": 26,
   "metadata": {
    "colab": {
     "base_uri": "https://localhost:8080/",
     "height": 173
    },
    "colab_type": "code",
    "id": "hSFyiYG7Z9b2",
    "outputId": "51a8bc2e-6816-480d-d001-d6e539fcd107"
   },
   "outputs": [
    {
     "data": {
      "text/html": [
       "<div>\n",
       "<style scoped>\n",
       "    .dataframe tbody tr th:only-of-type {\n",
       "        vertical-align: middle;\n",
       "    }\n",
       "\n",
       "    .dataframe tbody tr th {\n",
       "        vertical-align: top;\n",
       "    }\n",
       "\n",
       "    .dataframe thead th {\n",
       "        text-align: right;\n",
       "    }\n",
       "</style>\n",
       "<table border=\"1\" class=\"dataframe\">\n",
       "  <thead>\n",
       "    <tr style=\"text-align: right;\">\n",
       "      <th></th>\n",
       "      <th>TimeSlot</th>\n",
       "      <th>Status</th>\n",
       "    </tr>\n",
       "  </thead>\n",
       "  <tbody>\n",
       "    <tr>\n",
       "      <th>count</th>\n",
       "      <td>6745</td>\n",
       "      <td>6745</td>\n",
       "    </tr>\n",
       "    <tr>\n",
       "      <th>unique</th>\n",
       "      <td>5</td>\n",
       "      <td>3</td>\n",
       "    </tr>\n",
       "    <tr>\n",
       "      <th>top</th>\n",
       "      <td>Evening</td>\n",
       "      <td>Trip Completed</td>\n",
       "    </tr>\n",
       "    <tr>\n",
       "      <th>freq</th>\n",
       "      <td>2342</td>\n",
       "      <td>2831</td>\n",
       "    </tr>\n",
       "  </tbody>\n",
       "</table>\n",
       "</div>"
      ],
      "text/plain": [
       "        TimeSlot          Status\n",
       "count       6745            6745\n",
       "unique         5               3\n",
       "top      Evening  Trip Completed\n",
       "freq        2342            2831"
      ]
     },
     "execution_count": 26,
     "metadata": {},
     "output_type": "execute_result"
    }
   ],
   "source": [
    "df[['TimeSlot','Status']].describe()"
   ]
  },
  {
   "cell_type": "markdown",
   "metadata": {
    "colab_type": "text",
    "id": "ibj22zjEZ9cF"
   },
   "source": [
    "## Finding the Gap between Supply & Demand"
   ]
  },
  {
   "cell_type": "code",
   "execution_count": 27,
   "metadata": {
    "colab": {
     "base_uri": "https://localhost:8080/",
     "height": 642
    },
    "colab_type": "code",
    "id": "GV16w3YUZ9cI",
    "outputId": "f81c1cdd-07f3-40e8-8ac8-48a8e016c510"
   },
   "outputs": [
    {
     "data": {
      "text/plain": [
       "Text(0.5, 1.0, 'Types of request from ciy to airport')"
      ]
     },
     "execution_count": 27,
     "metadata": {},
     "output_type": "execute_result"
    },
    {
     "data": {
      "image/png": "[encoded data removed]",
      "text/plain": [
       "<Figure size 1080x720 with 1 Axes>"
      ]
     },
     "metadata": {
      "needs_background": "light"
     },
     "output_type": "display_data"
    }
   ],
   "source": [
    "### Demand-Supply Gap from City to Airport\n",
    "\n",
    "df[(df[\"Pickup point\"]==\"City\")].groupby(['Request_Hour','Status']).size().unstack().plot(kind=\"bar\",stacked=True,figsize=(15, 10))\n",
    "plt.title(\"Types of request from ciy to airport\")"
   ]
  },
  {
   "cell_type": "markdown",
   "metadata": {
    "colab_type": "text",
    "id": "Jlz9wkA4Z9cd"
   },
   "source": [
    "We observe that At morning 5:00 am and 8:00 am ,  the demand of Uber cabs is very high. People need to travel from city to airport to catch their flights. At that time most of the cabs get cancelled which marks the huge impact on the business of Uber. They need to fix this problem. "
   ]
  },
  {
   "cell_type": "code",
   "execution_count": 28,
   "metadata": {
    "colab": {
     "base_uri": "https://localhost:8080/",
     "height": 642
    },
    "colab_type": "code",
    "id": "uW3IphOhZ9cj",
    "outputId": "31cfb094-0d80-488c-b568-129d2d5c3c1b"
   },
   "outputs": [
    {
     "data": {
      "text/plain": [
       "Text(0.5, 1.0, 'Types of request from Airport to City')"
      ]
     },
     "execution_count": 28,
     "metadata": {},
     "output_type": "execute_result"
    },
    {
     "data": {
      "image/png": "[encoded data removed]",
      "text/plain": [
       "<Figure size 1080x720 with 1 Axes>"
      ]
     },
     "metadata": {
      "needs_background": "light"
     },
     "output_type": "display_data"
    }
   ],
   "source": [
    "### Demand-Supply Gap from Airport to City\n",
    "\n",
    "df[(df[\"Pickup point\"]==\"Airport\")].groupby(['Request_Hour','Status']).size().unstack().plot(kind=\"bar\",stacked=True,figsize=(15, 10))\n",
    "plt.title(\"Types of request from Airport to City\")"
   ]
  },
  {
   "cell_type": "markdown",
   "metadata": {
    "colab_type": "text",
    "id": "yb99Zw91Z9c2"
   },
   "source": [
    "From the above bar graph we note that In the evening time there is more demand of cabs from Airport to city as the flights gets land more in evening time. People need cabs for travelling to the city. The main problem Uber needs to handle is that there is a huge gap between demand & Supply. When the demand of Cabs is moe in the evening time , it shows most of the cabs as unavailable or the cab gets cancelled by the driver.\n"
   ]
  },
  {
   "cell_type": "code",
   "execution_count": 29,
   "metadata": {
    "colab": {
     "base_uri": "https://localhost:8080/",
     "height": 584
    },
    "colab_type": "code",
    "id": "49ZFdyafZ9c5",
    "outputId": "1ca1af0c-e920-462d-996c-dce3fe74a0a2"
   },
   "outputs": [
    {
     "data": {
      "text/plain": [
       "Text(0.5, 1.0, 'TimeSlot where highest gap exist')"
      ]
     },
     "execution_count": 29,
     "metadata": {},
     "output_type": "execute_result"
    },
    {
     "data": {
      "image/png": "[encoded data removed]",
      "text/plain": [
       "<Figure size 1152x576 with 1 Axes>"
      ]
     },
     "metadata": {
      "needs_background": "light"
     },
     "output_type": "display_data"
    }
   ],
   "source": [
    "### Finding the time slots when the highest gap exists\n",
    "\n",
    "df.groupby(['TimeSlot', 'Cabs_Availability']).size().unstack().plot(kind = 'bar', figsize= (16,8), stacked = True) \n",
    "plt.title(\"TimeSlot where highest gap exist\")"
   ]
  },
  {
   "cell_type": "markdown",
   "metadata": {
    "colab_type": "text",
    "id": "6FA1_aJ0Z9dG"
   },
   "source": [
    "The above graph tells us about the timeslots when the highest gap exist between Supply & Demand. In the morining we see that the supply of cabs is more. People might need to catch their early morning flights so they need to book the cab from city to the airport or more flights are coming at the airport early morning."
   ]
  },
  {
   "cell_type": "code",
   "execution_count": 30,
   "metadata": {
    "colab": {
     "base_uri": "https://localhost:8080/",
     "height": 414
    },
    "colab_type": "code",
    "id": "jgRjYX24Z9dK",
    "outputId": "fcd3fd18-a0dd-4f54-943d-5902b24374b4"
   },
   "outputs": [
    {
     "data": {
      "text/plain": [
       "Text(0, 0.5, '')"
      ]
     },
     "execution_count": 30,
     "metadata": {},
     "output_type": "execute_result"
    },
    {
     "data": {
      "image/png": "[encoded data removed]",
      "text/plain": [
       "<Figure size 432x432 with 1 Axes>"
      ]
     },
     "metadata": {},
     "output_type": "display_data"
    }
   ],
   "source": [
    "###  Types of requests (city-airport or airport-city) for which the gap is the most severe in the identified time slots\n",
    "### Let us check for Morning and Evening as request of cabs were made more at that time \n",
    "\n",
    "df[df[\"TimeSlot\"]==\" Morning\"].groupby(['Pickup point']).size().plot(kind=\"pie\",stacked=True,figsize=(6, 6),table=True,title=\" Types of Requests during for which gap is most in Morning\")\n",
    "plt.ylabel(\"\")"
   ]
  },
  {
   "cell_type": "markdown",
   "metadata": {
    "colab_type": "text",
    "id": "200zAQOAZ9de"
   },
   "source": [
    "We observe that in Morning the request of the cabs were more in the City than the Airport. At city the total request made  were **1677** and at airport were **426** "
   ]
  },
  {
   "cell_type": "code",
   "execution_count": 31,
   "metadata": {
    "colab": {
     "base_uri": "https://localhost:8080/",
     "height": 414
    },
    "colab_type": "code",
    "id": "W164CKr7Z9dh",
    "outputId": "e3920120-209b-48be-9909-7ec7fda7b0fe"
   },
   "outputs": [
    {
     "data": {
      "text/plain": [
       "Text(0, 0.5, '')"
      ]
     },
     "execution_count": 31,
     "metadata": {},
     "output_type": "execute_result"
    },
    {
     "data": {
      "image/png": "[encoded data removed]",
      "text/plain": [
       "<Figure size 432x432 with 1 Axes>"
      ]
     },
     "metadata": {},
     "output_type": "display_data"
    }
   ],
   "source": [
    "### Evening \n",
    "df[df[\"TimeSlot\"]==\" Evening\"].groupby(['Pickup point']).size().plot(kind=\"pie\",stacked=True,figsize=(6, 6),table=True,title=\" Types of Requests during for which gap is most in Evening\")\n",
    "plt.ylabel(\"\")"
   ]
  },
  {
   "cell_type": "markdown",
   "metadata": {
    "colab_type": "text",
    "id": "2kM8kBHfZ9du"
   },
   "source": [
    "We observe that in Evening the request of the cabs were more in the Airport than the City. At city the total request made were **542** and at airport were **1800**"
   ]
  },
  {
   "cell_type": "markdown",
   "metadata": {
    "colab_type": "text",
    "id": "C7cE4_JbZ9eg"
   },
   "source": [
    "We see that from the Airport most of the cabs were not available from 5:0 PM to 9:00 PM. Also we see that higher number of trips were completed from city in the morning 5:00 AM to 9:00 AM."
   ]
  },
  {
   "cell_type": "code",
   "execution_count": 32,
   "metadata": {
    "colab": {
     "base_uri": "https://localhost:8080/",
     "height": 545
    },
    "colab_type": "code",
    "id": "tQoKGEXnZ9d8",
    "outputId": "6afa3542-e97a-4c2c-d2ff-462ad7e8180e"
   },
   "outputs": [
    {
     "data": {
      "text/plain": [
       "<matplotlib.axes._subplots.AxesSubplot at 0x1975f3e4a20>"
      ]
     },
     "execution_count": 32,
     "metadata": {},
     "output_type": "execute_result"
    },
    {
     "data": {
      "image/png": "[encoded data removed]",
      "text/plain": [
       "<Figure size 864x504 with 1 Axes>"
      ]
     },
     "metadata": {
      "needs_background": "light"
     },
     "output_type": "display_data"
    }
   ],
   "source": [
    "### PLot distribution between TimeSlot, Pickup point & Status\n",
    "df= pd.DataFrame(df.groupby(['Pickup point','TimeSlot','Status'])['Request id'].count().unstack(fill_value = 0))\n",
    "df.plot.bar(color = ['green','blue','yellow'])\n"
   ]
  },
  {
   "cell_type": "code",
   "execution_count": 33,
   "metadata": {
    "colab": {},
    "colab_type": "code",
    "id": "AJ_NuAPhZ9fx"
   },
   "outputs": [],
   "source": [
    "##### Recommend some ways to resolve the supply-demand gap.\n",
    "\n",
    "# Creating Incentives for the Cab drivers so they can work at high demand hours from Airport to City during Evening & City to Airport during Morning.\n",
    "# We can direct the cabs from City to Airport to supply the high demand during the Morning Hours.\n",
    "# Directing the Cabs from Airport to City to supply the high demand  during the Late Evening & Night Hours.\n",
    "# Survey the reason behind the cancellation of cabs from City-Airport & Airport-City ."
   ]
  },
  {
   "cell_type": "code",
   "execution_count": 34,
   "metadata": {
    "colab": {},
    "colab_type": "code",
    "id": "EI75JZ22Z9fk"
   },
   "outputs": [],
   "source": [
    "#####  What do you think is the reason for this issue for the supply-demand gap?\n",
    "\n",
    "# The arrival and departure timing preferrances of the passengers are different. The demand for city pickup is high in morning. \n",
    "# However, the pickup demand from airport is more in the evening only. \n",
    "# Hence, the wait time for most drivers going to the airport in the morning would be very high as there are not much passengers. \n",
    "# So,  cab availability are low. Similarly, In the evening there aren’t enough cabs at the airport to meet the demand. \n",
    "# High wait time and no passenegers to carry out the trip is resulting in the gap between the  demand and supply. "
   ]
  },
  {
   "cell_type": "markdown",
   "metadata": {
    "colab_type": "text",
    "id": "o6RT54h2Z9gB"
   },
   "source": [
    "# CONCLUSION"
   ]
  },
  {
   "cell_type": "markdown",
   "metadata": {
    "colab_type": "text",
    "id": "MTYLXsGsZ9gD"
   },
   "source": [
    "##### As we know that there are is high demand of cabs for city in the morning and for the Airport in the Evening only. We can award the incentives to the cab drivers so that It encourages them to wait at the airport and the city. Drivers could be compensated for taking the night shifts, so that the quantity of drivers would be more. We tried to solve the most problematic types of request and the time slots and displaying the supply demand gap at the Airport & the City. "
   ]
  }
 ],
 "metadata": {
  "colab": {
   "collapsed_sections": [],
   "name": "Uber Supply Demand Gap.ipynb",
   "provenance": [],
   "toc_visible": true,
   "version": "0.3.2"
  },
  "kernelspec": {
   "display_name": "Python 3",
   "language": "python",
   "name": "python3"
  },
  "language_info": {
   "codemirror_mode": {
    "name": "ipython",
    "version": 3
   },
   "file_extension": ".py",
   "mimetype": "text/x-python",
   "name": "python",
   "nbconvert_exporter": "python",
   "pygments_lexer": "ipython3",
   "version": "3.7.3"
  }
 },
 "nbformat": 4,
 "nbformat_minor": 1
}
